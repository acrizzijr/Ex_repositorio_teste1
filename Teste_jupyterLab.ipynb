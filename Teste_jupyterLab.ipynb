{
 "cells": [
  {
   "cell_type": "code",
   "execution_count": 6,
   "id": "dbdce80f-7356-4347-a3b4-256614a572f7",
   "metadata": {
    "tags": []
   },
   "outputs": [
    {
     "name": "stdout",
     "output_type": "stream",
     "text": [
      "Teste do JupyterLab\n"
     ]
    }
   ],
   "source": [
    "print(\"Teste do JupyterLab\")"
   ]
  },
  {
   "cell_type": "markdown",
   "id": "7f535699-e0f5-4fb0-8a29-03cb00255a8f",
   "metadata": {},
   "source": [
    "Alguns atalhos de teclado (funcionam quando a célula não está no modo de edição -> apertando ESC):\n",
    "\n",
    "a: cria uma célula antes\n",
    "\n",
    "b: cria uma célula depois\n",
    "\n",
    "d + d ('d' duas vezes): exclui a célula\n",
    "\n",
    "m: converte a célula em Markdown\n",
    "\n",
    "Ctrl + Enter: Executa ou Renderiza (se for Markdown) a célula\n",
    "\n",
    "Shift + Enter: Executa e cria (ou avança para) nova linha de código"
   ]
  },
  {
   "cell_type": "code",
   "execution_count": 12,
   "id": "0c992baf-2343-4f81-9a4b-ae7759a1b092",
   "metadata": {},
   "outputs": [
    {
     "data": {
      "text/plain": [
       "2"
      ]
     },
     "execution_count": 12,
     "metadata": {},
     "output_type": "execute_result"
    }
   ],
   "source": [
    "1 + 1"
   ]
  },
  {
   "cell_type": "code",
   "execution_count": 8,
   "id": "9d203cdd-32bb-4545-b86a-1e570be44d3b",
   "metadata": {},
   "outputs": [
    {
     "data": {
      "text/plain": [
       "False"
      ]
     },
     "execution_count": 8,
     "metadata": {},
     "output_type": "execute_result"
    }
   ],
   "source": [
    "1 == 2"
   ]
  },
  {
   "cell_type": "markdown",
   "id": "39b4f4aa-cb39-4531-8b2a-57b5590400be",
   "metadata": {},
   "source": [
    "## Exemplos de uso de Numpy"
   ]
  },
  {
   "cell_type": "code",
   "execution_count": 16,
   "id": "72bfc621-aaf5-42b8-bbe6-4b31dd9b0602",
   "metadata": {},
   "outputs": [],
   "source": [
    "import numpy as np"
   ]
  },
  {
   "cell_type": "code",
   "execution_count": 18,
   "id": "d4d2ae36-86f1-4f90-af4e-6b24864ddb67",
   "metadata": {},
   "outputs": [],
   "source": [
    "a = np.arange(15).reshape(3, 5)"
   ]
  },
  {
   "cell_type": "code",
   "execution_count": 19,
   "id": "356b5cd0-fd61-4f7b-a89b-68f4d8d35ae3",
   "metadata": {},
   "outputs": [
    {
     "data": {
      "text/plain": [
       "array([ 7, 14, 21, 28, 35, 42, 49, 56, 63, 70])"
      ]
     },
     "execution_count": 19,
     "metadata": {},
     "output_type": "execute_result"
    }
   ],
   "source": [
    "b = np.arange(7, 71, 7)  # o valor 'stop' (não é incluído no vetor)\n",
    "b"
   ]
  },
  {
   "cell_type": "code",
   "execution_count": 21,
   "id": "44e9eec0-dc6f-48e1-adc9-cf40e6bee080",
   "metadata": {},
   "outputs": [
    {
     "data": {
      "text/plain": [
       "array([[1., 0., 0., 0.],\n",
       "       [0., 1., 0., 0.],\n",
       "       [0., 0., 1., 0.],\n",
       "       [0., 0., 0., 1.]])"
      ]
     },
     "execution_count": 21,
     "metadata": {},
     "output_type": "execute_result"
    }
   ],
   "source": [
    "c = np.eye(4)  # matriz identidade\n",
    "c"
   ]
  },
  {
   "cell_type": "code",
   "execution_count": 37,
   "id": "b2ea099d-e212-4fc6-b6d3-20ed4c9bd599",
   "metadata": {},
   "outputs": [
    {
     "data": {
      "text/plain": [
       "array([[0., 0., 0.],\n",
       "       [0., 0., 0.]])"
      ]
     },
     "execution_count": 37,
     "metadata": {},
     "output_type": "execute_result"
    }
   ],
   "source": [
    "d = np.empty( (2,3) )\n",
    "d"
   ]
  },
  {
   "cell_type": "code",
   "execution_count": 39,
   "id": "2590258c-9ac0-4213-999f-0ad634e81472",
   "metadata": {},
   "outputs": [],
   "source": [
    "lista = [1, 2, 3, 4]"
   ]
  },
  {
   "cell_type": "code",
   "execution_count": 42,
   "id": "fa3e2846-6202-499d-9b34-17d68ee0289e",
   "metadata": {},
   "outputs": [
    {
     "data": {
      "text/plain": [
       "array([1, 2, 3, 4])"
      ]
     },
     "execution_count": 42,
     "metadata": {},
     "output_type": "execute_result"
    }
   ],
   "source": [
    "e = np.array(lista)\n",
    "e"
   ]
  },
  {
   "cell_type": "code",
   "execution_count": 45,
   "id": "395a6c63-e9d9-457b-8b86-68a9d61e249c",
   "metadata": {},
   "outputs": [
    {
     "data": {
      "text/plain": [
       "array([[1, 2],\n",
       "       [3, 4]])"
      ]
     },
     "execution_count": 45,
     "metadata": {},
     "output_type": "execute_result"
    }
   ],
   "source": [
    "f = e.reshape(2,2)\n",
    "f"
   ]
  }
 ],
 "metadata": {
  "kernelspec": {
   "display_name": "Python 3 (ipykernel)",
   "language": "python",
   "name": "python3"
  },
  "language_info": {
   "codemirror_mode": {
    "name": "ipython",
    "version": 3
   },
   "file_extension": ".py",
   "mimetype": "text/x-python",
   "name": "python",
   "nbconvert_exporter": "python",
   "pygments_lexer": "ipython3",
   "version": "3.9.7"
  },
  "toc-autonumbering": true
 },
 "nbformat": 4,
 "nbformat_minor": 5
}
